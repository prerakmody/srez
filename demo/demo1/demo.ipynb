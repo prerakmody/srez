{
 "cells": [
  {
   "cell_type": "code",
   "execution_count": null,
   "metadata": {
    "ExecuteTime": {
     "start_time": "2017-12-14T08:12:33.028Z"
    },
    "collapsed": false
   },
   "outputs": [
    {
     "name": "stdout",
     "output_type": "stream",
     "text": [
      "Project Root :  /home/strider/Downloads/Research/Compressive Sensing/Others Code Repos/srez\n"
     ]
    }
   ],
   "source": [
    "import os, sys\n",
    "cwd = os.getcwd()\n",
    "project_root = os.path.abspath(os.path.join(cwd, '../../'))\n",
    "print ('Project Root : ', project_root)\n",
    "sys.path.insert(0, project_root)\n",
    "\n",
    "project_src = os.path.join(project_root, 'src')\n",
    "sys.path.insert(1, project_src)"
   ]
  },
  {
   "cell_type": "code",
   "execution_count": null,
   "metadata": {
    "ExecuteTime": {
     "start_time": "2017-12-14T08:12:33.039Z"
    },
    "collapsed": false
   },
   "outputs": [
    {
     "name": "stdout",
     "output_type": "stream",
     "text": [
      "\n",
      " =========== nvidia-smi ========== \n",
      "Query for existing PIDs using GPU : nvidia-smi --query-compute-apps=pid --format=csv,noheader\n",
      " --->  []\n",
      "TensorFlow Devices: /cpu:0\n",
      "TensorFlow Devices: /gpu:0\n",
      "\n",
      "\n",
      " =========== TF Version :  1.3.0  ========== \n",
      "\n",
      "Dataset :  /home/strider/Downloads/Research/Compressive Sensing/Others Code Repos/__data/CelebA/img_align_celeba_png_samples\n",
      "\n",
      "\n",
      " ========== Let the training begin! ========== \n",
      "WARNING:tensorflow:From /home/strider/anaconda3/lib/python3.5/site-packages/tensorflow/python/util/tf_should_use.py:175: initialize_all_variables (from tensorflow.python.ops.variables) is deprecated and will be removed after 2017-03-02.\n",
      "Instructions for updating:\n",
      "Use `tf.global_variables_initializer` instead.\n",
      "Progress[  1%], ETA[  19m], Batch [  10], G_Loss[0.196], D_Real_Loss[1.051], D_Fake_Loss[0.587]\n",
      "    Checkpoint saved\n",
      "    Saved train/batch000011_out.png\n",
      "Progress[  2%], ETA[  19m], Batch [  20], G_Loss[0.188], D_Real_Loss[0.990], D_Fake_Loss[0.977]\n",
      "    Checkpoint saved\n",
      "    Saved train/batch000022_out.png\n",
      "Progress[  4%], ETA[  19m], Batch [  30], G_Loss[0.143], D_Real_Loss[0.737], D_Fake_Loss[0.715]\n",
      "    Checkpoint saved\n",
      "    Saved train/batch000033_out.png\n",
      "Progress[  5%], ETA[  18m], Batch [  40], G_Loss[0.138], D_Real_Loss[0.756], D_Fake_Loss[0.826]\n",
      "    Checkpoint saved\n",
      "    Saved train/batch000044_out.png\n",
      "Progress[  6%], ETA[  18m], Batch [  50], G_Loss[0.126], D_Real_Loss[0.703], D_Fake_Loss[0.725]\n",
      "    Checkpoint saved\n",
      "    Saved train/batch000055_out.png\n",
      "Progress[  8%], ETA[  18m], Batch [  60], G_Loss[0.140], D_Real_Loss[0.748], D_Fake_Loss[0.838]\n",
      "    Checkpoint saved\n",
      "    Saved train/batch000066_out.png\n",
      "Progress[  9%], ETA[  18m], Batch [  70], G_Loss[0.128], D_Real_Loss[0.705], D_Fake_Loss[0.715]\n",
      "    Checkpoint saved\n",
      "    Saved train/batch000077_out.png\n",
      "Progress[ 11%], ETA[  17m], Batch [  80], G_Loss[0.126], D_Real_Loss[0.689], D_Fake_Loss[0.728]\n",
      "    Checkpoint saved\n",
      "    Saved train/batch000088_out.png\n",
      "Progress[ 12%], ETA[  17m], Batch [  90], G_Loss[0.126], D_Real_Loss[0.666], D_Fake_Loss[0.702]\n",
      "    Checkpoint saved\n",
      "    Saved train/batch000099_out.png\n",
      "Progress[ 13%], ETA[  17m], Batch [ 100], G_Loss[0.120], D_Real_Loss[0.668], D_Fake_Loss[0.717]\n",
      "    Checkpoint saved\n",
      "Progress[ 15%], ETA[  16m], Batch [ 110], G_Loss[0.126], D_Real_Loss[0.735], D_Fake_Loss[0.752]\n",
      "    Saved train/batch000110_out.png\n",
      "    Checkpoint saved\n",
      "Progress[ 16%], ETA[  16m], Batch [ 120], G_Loss[0.125], D_Real_Loss[0.694], D_Fake_Loss[0.665]\n",
      "    Checkpoint saved\n",
      "    Saved train/batch000121_out.png\n",
      "Progress[ 17%], ETA[  16m], Batch [ 130], G_Loss[0.125], D_Real_Loss[0.729], D_Fake_Loss[0.635]\n",
      "    Checkpoint saved\n",
      "    Saved train/batch000132_out.png\n",
      "Progress[ 19%], ETA[  16m], Batch [ 140], G_Loss[0.137], D_Real_Loss[0.660], D_Fake_Loss[0.662]\n",
      "    Checkpoint saved\n",
      "    Saved train/batch000143_out.png\n",
      "Progress[ 20%], ETA[  15m], Batch [ 150], G_Loss[0.116], D_Real_Loss[0.638], D_Fake_Loss[0.682]\n",
      "    Checkpoint saved\n",
      "    Saved train/batch000154_out.png\n",
      "Progress[ 22%], ETA[  15m], Batch [ 160], G_Loss[0.111], D_Real_Loss[0.658], D_Fake_Loss[0.700]\n",
      "    Checkpoint saved\n"
     ]
    }
   ],
   "source": [
    "import src.utils as utils\n",
    "if utils.check_gpu(verbose = 0):\n",
    "    import src.srez_main as srez_main\n",
    "    \n",
    "    project_dataset = os.path.abspath(os.path.join(project_root, '../__data/CelebA/img_align_celeba_png_samples'))\n",
    "    print ('\\nDataset : ', project_dataset)\n",
    "    \n",
    "    srez_obj = srez_main.Srez(dataset = project_dataset, epochs_summary = 11)\n",
    "    srez_obj.train()\n",
    "else:\n",
    "    print ('GPU not available. :( ')"
   ]
  },
  {
   "cell_type": "code",
   "execution_count": null,
   "metadata": {
    "collapsed": true
   },
   "outputs": [],
   "source": []
  }
 ],
 "metadata": {
  "anaconda-cloud": {},
  "kernelspec": {
   "display_name": "Python [default]",
   "language": "python",
   "name": "python3"
  },
  "language_info": {
   "codemirror_mode": {
    "name": "ipython",
    "version": 3
   },
   "file_extension": ".py",
   "mimetype": "text/x-python",
   "name": "python",
   "nbconvert_exporter": "python",
   "pygments_lexer": "ipython3",
   "version": "3.5.2"
  },
  "varInspector": {
   "cols": {
    "lenName": 16,
    "lenType": 16,
    "lenVar": 40
   },
   "kernels_config": {
    "python": {
     "delete_cmd_postfix": "",
     "delete_cmd_prefix": "del ",
     "library": "var_list.py",
     "varRefreshCmd": "print(var_dic_list())"
    },
    "r": {
     "delete_cmd_postfix": ") ",
     "delete_cmd_prefix": "rm(",
     "library": "var_list.r",
     "varRefreshCmd": "cat(var_dic_list()) "
    }
   },
   "types_to_exclude": [
    "module",
    "function",
    "builtin_function_or_method",
    "instance",
    "_Feature"
   ],
   "window_display": false
  }
 },
 "nbformat": 4,
 "nbformat_minor": 1
}
